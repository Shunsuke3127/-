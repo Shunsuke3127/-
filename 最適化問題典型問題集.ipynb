{
 "cells": [
  {
   "cell_type": "markdown",
   "metadata": {},
   "source": [
    "PuLPでの汎用問題の作り方\n",
    "ライブラリのインポート\n",
    "from pulp import *\n",
    "数理モデルの作成\n",
    "最小化問題のとき: m = LpPrblem()\n",
    "最大化問題のとき: m = LpProblem(sense=LpMaximize)\n",
    "変数の作成\n",
    "連続変数: x = LpVariable(変数名, lowBound=0)\n",
    "0-1変数: x = LpVariable(変数名, cat=LpBinary)\n",
    "連続変数のリスト: x = [LpVariable(i番目の変数名, lowBound=0) for i in range(n)]\n",
    "変数名は、必ず異なるようにします\n",
    "目的関数の設定\n",
    "m += 式\n",
    "制約条件の追加\n",
    "m += 式 == 式\n",
    "m += 式 <= 式\n",
    "m += 式 >= 式\n",
    "式の例\n",
    "2 * x + 3 * y - 5\n",
    "和: lpSum(変数のリスト)\n",
    "内積: lpDot(係数のリスト, 変数のリスト)\n",
    "ソルバーの実行\n",
    "m.solve()\n",
    "変数や式や目的関数の値\n",
    "value(変数)、value(式)、value(m.objective)"
   ]
  },
  {
   "cell_type": "markdown",
   "metadata": {},
   "source": [
    "ナップサック問題"
   ]
  },
  {
   "cell_type": "code",
   "execution_count": 1,
   "metadata": {
    "collapsed": false
   },
   "outputs": [
    {
     "data": {
      "text/plain": [
       "(105.0, [0, 1, 3, 4, 5])"
      ]
     },
     "execution_count": 1,
     "metadata": {},
     "output_type": "execute_result"
    }
   ],
   "source": [
    "#簡単なライブラリ使用\n",
    "from ortoolpy import knapsack\n",
    "size = [21, 11, 15, 9, 34, 25, 41, 52]\n",
    "weight = [22, 12, 16, 10, 35, 26, 42, 53]\n",
    "capacity = 100\n",
    "knapsack(size, weight, capacity)"
   ]
  },
  {
   "cell_type": "code",
   "execution_count": 4,
   "metadata": {
    "collapsed": false
   },
   "outputs": [
    {
     "name": "stdout",
     "output_type": "stream",
     "text": [
      "(105.0, [0, 1, 3, 4, 5])\n"
     ]
    }
   ],
   "source": [
    "#pulp使用\n",
    "from pulp import *\n",
    "size = [21, 11, 15, 9, 34, 25, 41, 52]\n",
    "weight = [22, 12, 16, 10, 35, 26, 42, 53]\n",
    "capacity = 100\n",
    "r = range(len(size))\n",
    "m = LpProblem(sense = LpMaximize)\n",
    "x = [LpVariable('x%d'%i, cat = LpBinary) for i in r]\n",
    "m += lpDot(weight, x)\n",
    "m += lpDot(size, x) <= capacity\n",
    "m.solve()\n",
    "print((value(m.objective), [i for i in r if value(x[i]) > 0.5]))\n"
   ]
  },
  {
   "cell_type": "markdown",
   "metadata": {},
   "source": [
    "最短経路問題（ダイクストラ法で解いた方が早いからこの汎用問題としての解き方はオススメしない）"
   ]
  },
  {
   "cell_type": "code",
   "execution_count": 2,
   "metadata": {
    "collapsed": false
   },
   "outputs": [
    {
     "data": {
      "text/plain": [
       "[0, 1, 6, 3, 5, 2]"
      ]
     },
     "execution_count": 2,
     "metadata": {},
     "output_type": "execute_result"
    }
   ],
   "source": [
    "import networkx as nx\n",
    "g = nx.fast_gnp_random_graph(8, 0.26, 1)\n",
    "nx.dijkstra_path(g, 0, 2)\n"
   ]
  },
  {
   "cell_type": "markdown",
   "metadata": {},
   "source": [
    "関数の説明\n",
    "----------\n",
    "nx.fast_gnp_random_graph\n",
    "Parameters\n",
    "----------\n",
    "n : int\n",
    "    The number of nodes.\n",
    "p : float\n",
    "    Probability for edge creation.\n",
    "seed : int, optional"
   ]
  },
  {
   "cell_type": "code",
   "execution_count": 15,
   "metadata": {
    "collapsed": false
   },
   "outputs": [
    {
     "name": "stdout",
     "output_type": "stream",
     "text": [
      "[(0, 1), (1, 6), (3, 5), (5, 2), (6, 3)]\n"
     ]
    }
   ],
   "source": [
    "from pulp import *\n",
    "import networkx as nx\n",
    "g = nx.fast_gnp_random_graph(8,0.26,1).to_directed()\n",
    "source, sink = 0, 2\n",
    "r = list(enumerate(g.edges()))  #ノードとノードの連結関係を記述　[1,(1,2)].....\n",
    "m = LpProblem() # 数理モデル\n",
    "x = [LpVariable('x%d'%k, lowBound=0, upBound=1) for k, (i, j) in r] # 変数(路に入るかどうか)\n",
    "m += lpSum(x) # 目的関数\n",
    "for nd in g.nodes():\n",
    "    m += lpSum(x[k] for k, (i, j) in r if i == nd) \\\n",
    "      == lpSum(x[k] for k, (i, j) in r if j == nd) + {source:1, sink:-1}.get(nd, 0) # 制約\n",
    "\n",
    "m.solve()\n",
    "print([(i,j) for k,(i,j) in r if value(x[k]) > 0.5])\n",
    "        \n",
    "    "
   ]
  },
  {
   "cell_type": "code",
   "execution_count": null,
   "metadata": {
    "collapsed": true
   },
   "outputs": [],
   "source": []
  }
 ],
 "metadata": {
  "kernelspec": {
   "display_name": "Python 3",
   "language": "python",
   "name": "python3"
  },
  "language_info": {
   "codemirror_mode": {
    "name": "ipython",
    "version": 3
   },
   "file_extension": ".py",
   "mimetype": "text/x-python",
   "name": "python",
   "nbconvert_exporter": "python",
   "pygments_lexer": "ipython3",
   "version": "3.6.0"
  }
 },
 "nbformat": 4,
 "nbformat_minor": 2
}
